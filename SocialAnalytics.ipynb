{
 "cells": [
  {
   "cell_type": "code",
   "execution_count": 33,
   "metadata": {},
   "outputs": [],
   "source": [
    "# Import required dependencies\n",
    "%matplotlib inline\n",
    "import tweepy\n",
    "import numpy as np\n",
    "import pandas as pd\n",
    "import matplotlib.pyplot as plt\n",
    "from datetime import datetime\n",
    "\n",
    "# Import Vader\n",
    "from vaderSentiment.vaderSentiment import SentimentIntensityAnalyzer\n",
    "analyzer = SentimentIntensityAnalyzer()\n",
    "\n",
    "# Import Twitter Keys\n",
    "from config import (consumer_key, \n",
    "                    consumer_secret, \n",
    "                    access_token, \n",
    "                    access_token_secret)\n",
    "\n",
    "# Twitter API Authentication\n",
    "auth = tweepy.OAuthHandler(consumer_key, consumer_secret)\n",
    "auth.set_access_token(access_token, access_token_secret)\n",
    "api = tweepy.API(auth, parser=tweepy.parsers.JSONParser())"
   ]
  },
  {
   "cell_type": "code",
   "execution_count": 34,
   "metadata": {},
   "outputs": [],
   "source": [
    "#search terms for news orgs by twitter handle\n",
    "# BBC, CBS, CNN, Fox, NPR and New York times\n",
    "target_news = (\"@FoxNews\", \"@CBSNews\", \"@CNN\",\"@NYTimes\", \"@NPR\")"
   ]
  },
  {
   "cell_type": "code",
   "execution_count": 35,
   "metadata": {},
   "outputs": [],
   "source": [
    "#List to hold news results\n",
    "news_tweets = []\n",
    "tweet_times = []\n",
    "sentiments = []\n",
    "\n",
    "#For Loop\n",
    "for target in target_news:\n",
    "    counter = 0\n",
    "    compound_list = []\n",
    "    positive_list = []\n",
    "    negative_list = []\n",
    "    neutral_list = []\n",
    "    # Nested For Loop to target 100 tweets per org\n",
    "    public_tweets = api.user_timeline(target, count = 100)\n",
    "\n",
    "        # Loop through all tweets\n",
    "    for tweet in public_tweets:\n",
    "                # Vader Analysis\n",
    "            results = analyzer.polarity_scores(tweet[\"text\"])\n",
    "            compound = results[\"compound\"]\n",
    "            pos = results[\"pos\"]\n",
    "            neu = results[\"neu\"]\n",
    "            neg = results[\"neg\"]\n",
    "\n",
    "            sentiments.append({\"Date\": tweet[\"created_at\"],\n",
    "                               \"User\": target,\n",
    "                               \"Compound\": compound,\n",
    "                               \"Positive\": pos,\n",
    "                               \"Neutral\": neu,\n",
    "                               \"Negative\": neg,\n",
    "                               \"Tweets Ago\": counter})\n",
    "            counter = counter + 1\n",
    "    \n",
    "    # Append sentiment to results\n",
    "news_tweets.append(sentiments)"
   ]
  },
  {
   "cell_type": "code",
   "execution_count": 46,
   "metadata": {},
   "outputs": [
    {
     "data": {
      "text/html": [
       "<div>\n",
       "<style scoped>\n",
       "    .dataframe tbody tr th:only-of-type {\n",
       "        vertical-align: middle;\n",
       "    }\n",
       "\n",
       "    .dataframe tbody tr th {\n",
       "        vertical-align: top;\n",
       "    }\n",
       "\n",
       "    .dataframe thead th {\n",
       "        text-align: right;\n",
       "    }\n",
       "</style>\n",
       "<table border=\"1\" class=\"dataframe\">\n",
       "  <thead>\n",
       "    <tr style=\"text-align: right;\">\n",
       "      <th></th>\n",
       "      <th>Compound</th>\n",
       "      <th>Date</th>\n",
       "      <th>Negative</th>\n",
       "      <th>Neutral</th>\n",
       "      <th>Positive</th>\n",
       "      <th>Tweets Ago</th>\n",
       "      <th>User</th>\n",
       "    </tr>\n",
       "  </thead>\n",
       "  <tbody>\n",
       "    <tr>\n",
       "      <th>0</th>\n",
       "      <td>-0.2263</td>\n",
       "      <td>Thu Oct 04 20:24:53 +0000 2018</td>\n",
       "      <td>0.174</td>\n",
       "      <td>0.826</td>\n",
       "      <td>0.0</td>\n",
       "      <td>0</td>\n",
       "      <td>@FoxNews</td>\n",
       "    </tr>\n",
       "    <tr>\n",
       "      <th>1</th>\n",
       "      <td>0.0000</td>\n",
       "      <td>Thu Oct 04 20:19:03 +0000 2018</td>\n",
       "      <td>0.000</td>\n",
       "      <td>1.000</td>\n",
       "      <td>0.0</td>\n",
       "      <td>1</td>\n",
       "      <td>@FoxNews</td>\n",
       "    </tr>\n",
       "    <tr>\n",
       "      <th>2</th>\n",
       "      <td>0.0000</td>\n",
       "      <td>Thu Oct 04 20:03:09 +0000 2018</td>\n",
       "      <td>0.000</td>\n",
       "      <td>1.000</td>\n",
       "      <td>0.0</td>\n",
       "      <td>2</td>\n",
       "      <td>@FoxNews</td>\n",
       "    </tr>\n",
       "    <tr>\n",
       "      <th>3</th>\n",
       "      <td>0.0000</td>\n",
       "      <td>Thu Oct 04 19:30:41 +0000 2018</td>\n",
       "      <td>0.000</td>\n",
       "      <td>1.000</td>\n",
       "      <td>0.0</td>\n",
       "      <td>3</td>\n",
       "      <td>@FoxNews</td>\n",
       "    </tr>\n",
       "    <tr>\n",
       "      <th>4</th>\n",
       "      <td>-0.6369</td>\n",
       "      <td>Thu Oct 04 19:24:00 +0000 2018</td>\n",
       "      <td>0.271</td>\n",
       "      <td>0.729</td>\n",
       "      <td>0.0</td>\n",
       "      <td>4</td>\n",
       "      <td>@FoxNews</td>\n",
       "    </tr>\n",
       "  </tbody>\n",
       "</table>\n",
       "</div>"
      ],
      "text/plain": [
       "   Compound                            Date  Negative  Neutral  Positive  \\\n",
       "0   -0.2263  Thu Oct 04 20:24:53 +0000 2018     0.174    0.826       0.0   \n",
       "1    0.0000  Thu Oct 04 20:19:03 +0000 2018     0.000    1.000       0.0   \n",
       "2    0.0000  Thu Oct 04 20:03:09 +0000 2018     0.000    1.000       0.0   \n",
       "3    0.0000  Thu Oct 04 19:30:41 +0000 2018     0.000    1.000       0.0   \n",
       "4   -0.6369  Thu Oct 04 19:24:00 +0000 2018     0.271    0.729       0.0   \n",
       "\n",
       "   Tweets Ago      User  \n",
       "0           0  @FoxNews  \n",
       "1           1  @FoxNews  \n",
       "2           2  @FoxNews  \n",
       "3           3  @FoxNews  \n",
       "4           4  @FoxNews  "
      ]
     },
     "execution_count": 46,
     "metadata": {},
     "output_type": "execute_result"
    }
   ],
   "source": [
    "news_data = pd.DataFrame.from_dict(sentiments)\n",
    "news_data.head()"
   ]
  },
  {
   "cell_type": "code",
   "execution_count": 40,
   "metadata": {},
   "outputs": [],
   "source": [
    "fox_df = news_data[news_data[\"User\"] == \"@FoxNews\"]\n",
    "cnn_df = news_data[news_data[\"User\"] == \"@CNN\"]\n",
    "nytimes_df = news_data[news_data[\"User\"] == \"@NYTimes\"]\n",
    "npr_df = news_data[news_data[\"User\"] == \"@NPR\"]\n",
    "cbsnews_df = news_data[news_data[\"User\"] == \"@CBSNews\"]"
   ]
  },
  {
   "cell_type": "code",
   "execution_count": 41,
   "metadata": {},
   "outputs": [
    {
     "data": {
      "image/png": "[encoded data removed]",
      "text/plain": [
       "<Figure size 432x288 with 1 Axes>"
      ]
     },
     "metadata": {},
     "output_type": "display_data"
    }
   ],
   "source": [
    "fox = plt.scatter(fox_df[\"Tweets Ago\"], fox_df[\"Compound\"],\n",
    "                  color = \"lightcoral\", edgecolors=\"black\", label=\"@FoxNews\")\n",
    "cnn = plt.scatter(cnn_df[\"Tweets Ago\"], cnn_df[\"Compound\"], \n",
    "                  color = \"lightskyblue\", edgecolors=\"black\", label=\"@CNN\")\n",
    "nytimes = plt.scatter(nytimes_df[\"Tweets Ago\"], nytimes_df[\"Compound\"], \n",
    "                  color = \"gray\", edgecolors=\"black\", label=\"@NYTimes\")\n",
    "cbs = plt.scatter(cbsnews_df[\"Tweets Ago\"], cbsnews_df[\"Compound\"], \n",
    "                  color = \"red\", edgecolors=\"black\", label=\"@CBSNews\")\n",
    "npr = plt.scatter(npr_df[\"Tweets Ago\"], npr_df[\"Compound\"], \n",
    "                  color = \"gold\", edgecolors=\"black\", label=\"@NPR\")\n",
    "plt.legend(handles = [fox, cnn, nytimes, cbs, npr], bbox_to_anchor = (1,1))\n",
    "plt.title(\"Sentiment Analysis of News Media Tweets\")\n",
    "plt.xlabel(\"Tweets Ago\")\n",
    "plt.ylabel(\"Tweet Polarity\")\n",
    "plt.savefig(\"Sentiment Analysis of News Media Tweets\")\n",
    "plt.show()"
   ]
  },
  {
   "cell_type": "code",
   "execution_count": 42,
   "metadata": {},
   "outputs": [
    {
     "data": {
      "text/plain": [
       "User\n",
       "@CBSNews   -0.056887\n",
       "@CNN        0.004359\n",
       "@FoxNews    0.027386\n",
       "@NPR        0.021190\n",
       "@NYTimes    0.054769\n",
       "Name: Compound, dtype: float64"
      ]
     },
     "execution_count": 42,
     "metadata": {},
     "output_type": "execute_result"
    }
   ],
   "source": [
    "overall_sentiment = news_data.groupby(\"User\")[\"Compound\"].mean()\n",
    "overall_sentiment"
   ]
  },
  {
   "cell_type": "code",
   "execution_count": 32,
   "metadata": {},
   "outputs": [
    {
     "data": {
      "text/plain": [
       "<BarContainer object of 5 artists>"
      ]
     },
     "execution_count": 32,
     "metadata": {},
     "output_type": "execute_result"
    },
    {
     "data": {
      "image/png": "[encoded data removed]",
      "text/plain": [
       "<Figure size 432x288 with 1 Axes>"
      ]
     },
     "metadata": {},
     "output_type": "display_data"
    }
   ],
   "source": [
    "x_axis = np.arange(len(overall_sentiment))\n",
    "xlabels = overall_sentiment.index\n",
    "tick_locations = [value-10 for value in x_axis]\n",
    "plt.bar(x_axis, overall_sentiment, tick_label=xlabels, color=['red', 'lightskyblue', 'lightcoral', 'gold', 'gray'], align=\"edge\")\n",
    "plt.title(\"Overall Sentiment of News Media Tweets\")\n",
    "plt.xlabel(\"New Organizations\")\n",
    "plt.ylabel(\"Tweet Polarity\")\n",
    "plt.savefig(\"Overall Sentiment of News Media Tweets\")\n",
    "plt.show()"
   ]
  }
 ],
 "metadata": {
  "kernelspec": {
   "display_name": "Python [conda env:PythonData]",
   "language": "python",
   "name": "conda-env-PythonData-py"
  },
  "language_info": {
   "codemirror_mode": {
    "name": "ipython",
    "version": 3
   },
   "file_extension": ".py",
   "mimetype": "text/x-python",
   "name": "python",
   "nbconvert_exporter": "python",
   "pygments_lexer": "ipython3",
   "version": "3.6.5"
  }
 },
 "nbformat": 4,
 "nbformat_minor": 2
}
